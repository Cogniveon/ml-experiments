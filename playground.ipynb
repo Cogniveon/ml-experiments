{
  "cells": [
    {
      "cell_type": "markdown",
      "metadata": {
        "id": "view-in-github",
        "colab_type": "text"
      },
      "source": [
        "<a href=\"https://colab.research.google.com/github/Cogniveon/ml-experiments/blob/main/playground.ipynb\" target=\"_parent\"><img src=\"https://colab.research.google.com/assets/colab-badge.svg\" alt=\"Open In Colab\"/></a>"
      ]
    },
    {
      "cell_type": "code",
      "source": [
        "#@title Setup ml-experiments\n",
        "%%capture --no-stderr\n",
        "import os, sys\n",
        "\n",
        "if not os.path.exists(\"/content/ml-experiments\"):\n",
        "  !git clone https://github.com/Cogniveon/ml-experiments.git\n",
        "\n",
        "%cd /content/ml-experiments\n",
        "sys.path.append(\"/content/ml-experiments\")\n",
        "\n",
        "%pip install torch torchvision torchaudio \"lightning[pytorch-extra]\" tensorboard numpy pandas"
      ],
      "metadata": {
        "cellView": "form",
        "id": "JBxRR4F0Eh98"
      },
      "execution_count": null,
      "outputs": []
    }
  ],
  "metadata": {
    "language_info": {
      "name": "python"
    },
    "colab": {
      "provenance": [],
      "gpuType": "T4",
      "include_colab_link": true
    },
    "accelerator": "GPU",
    "kernelspec": {
      "name": "python3",
      "display_name": "Python 3"
    }
  },
  "nbformat": 4,
  "nbformat_minor": 0
}